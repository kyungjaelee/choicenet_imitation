{
 "cells": [
  {
   "cell_type": "markdown",
   "metadata": {},
   "source": [
    "# Run Regression Tasks "
   ]
  },
  {
   "cell_type": "code",
   "execution_count": 1,
   "metadata": {},
   "outputs": [
    {
     "name": "stdout",
     "output_type": "stream",
     "text": [
      "Packages loaded.\n"
     ]
    }
   ],
   "source": [
    "import nbloader\n",
    "from main_imitation_config import worker_class\n",
    "if __name__ == \"__main__\": \n",
    "    print (\"Packages loaded.\")"
   ]
  },
  {
   "cell_type": "markdown",
   "metadata": {},
   "source": [
    "### Initiate Workers"
   ]
  },
  {
   "cell_type": "code",
   "execution_count": 2,
   "metadata": {},
   "outputs": [
    {
     "name": "stdout",
     "output_type": "stream",
     "text": [
      "[0/12] worker initiated.\n",
      "[1/12] worker initiated.\n",
      "[2/12] worker initiated.\n",
      "[3/12] worker initiated.\n",
      "[4/12] worker initiated.\n",
      "[5/12] worker initiated.\n",
      "[6/12] worker initiated.\n",
      "[7/12] worker initiated.\n",
      "[8/12] worker initiated.\n",
      "[9/12] worker initiated.\n",
      "[10/12] worker initiated.\n",
      "[11/12] worker initiated.\n"
     ]
    }
   ],
   "source": [
    "nWorker = 12\n",
    "maxGPU  = 4\n",
    "WORKERS = ['']*nWorker \n",
    "for i in range(nWorker):\n",
    "    WORKERS[i] = worker_class(_idx=i,_maxProcessID=nWorker,_maxGPU=maxGPU\n",
    "                              ,_name='Worker_%02d'%(i),_VERBOSE=False)\n",
    "    print (\"[%d/%d] worker initiated.\"%(i,nWorker))"
   ]
  },
  {
   "cell_type": "markdown",
   "metadata": {},
   "source": [
    "### Start Workers"
   ]
  },
  {
   "cell_type": "code",
   "execution_count": 3,
   "metadata": {
    "scrolled": false
   },
   "outputs": [
    {
     "name": "stdout",
     "output_type": "stream",
     "text": [
      "Starting [Worker_00]\n",
      "Starting [Worker_01]\n",
      "Starting [Worker_02]\n",
      "Starting [Worker_03]\n",
      "Starting [Worker_04]\n",
      "Starting [Worker_05]\n",
      "Starting [Worker_06]\n",
      "Starting [Worker_07]\n",
      "Starting [Worker_08]\n",
      "Starting [Worker_09]\n",
      "Starting [Worker_10]\n",
      "Starting [Worker_11]\n",
      "processID:[0/12] GPU_ID:[0] #Config:[1]\n",
      "===[0/1]===\n",
      "processID:[1/12] GPU_ID:[1] #Config:[1]\n",
      "===[0/1]===\n",
      "processID:[2/12] GPU_ID:[2] #Config:[1]\n",
      "===[0/1]===\n",
      "processID:[3/12] GPU_ID:[3] #Config:[1]\n",
      "===[0/1]===\n",
      "processID:[4/12] GPU_ID:[0] #Config:[1]\n",
      "===[0/1]===\n",
      "processID:[5/12] GPU_ID:[1] #Config:[0]\n",
      "[Worker_05] Finished.\n",
      "processID:[6/12] GPU_ID:[2] #Config:[0]\n",
      "[Worker_06] Finished.\n",
      "processID:[7/12] GPU_ID:[3] #Config:[0]\n",
      "[Worker_07] Finished.\n",
      "processID:[8/12] GPU_ID:[0] #Config:[0]\n",
      "[Worker_08] Finished.\n",
      "processID:[9/12] GPU_ID:[1] #Config:[0]\n",
      "[Worker_09] Finished.\n",
      "processID:[10/12] GPU_ID:[2] #Config:[0]\n",
      "[Worker_10] Finished.\n",
      "processID:[11/12] GPU_ID:[3] #Config:[0]\n",
      "[Worker_11] Finished.\n",
      "\u001b[33mWARN: gym.spaces.Box autodetected dtype as <class 'numpy.float32'>. Please provide explicit dtype.\u001b[0m\n",
      "\u001b[33mWARN: gym.spaces.Box autodetected dtype as <class 'numpy.float32'>. Please provide explicit dtype.\u001b[0m\n",
      "\u001b[33mWARN: gym.spaces.Box autodetected dtype as <class 'numpy.float32'>. Please provide explicit dtype.\u001b[0m\n",
      "\u001b[33mWARN: gym.spaces.Box autodetected dtype as <class 'numpy.float32'>. Please provide explicit dtype.\u001b[0m\n",
      "\u001b[33mWARN: gym.spaces.Box autodetected dtype as <class 'numpy.float32'>. Please provide explicit dtype.\u001b[0m\n",
      "WARNING:tensorflow:From <string>:54: calling softmax (from tensorflow.python.ops.nn_ops) with dim is deprecated and will be removed in a future version.\n",
      "Instructions for updating:\n",
      "dim is deprecated, use axis instead\n",
      "WARNING:tensorflow:From <string>:54: calling softmax (from tensorflow.python.ops.nn_ops) with dim is deprecated and will be removed in a future version.\n",
      "Instructions for updating:\n",
      "dim is deprecated, use axis instead\n",
      "WARNING:tensorflow:From <string>:54: calling softmax (from tensorflow.python.ops.nn_ops) with dim is deprecated and will be removed in a future version.\n",
      "Instructions for updating:\n",
      "dim is deprecated, use axis instead\n",
      "WARNING:tensorflow:From <string>:54: calling softmax (from tensorflow.python.ops.nn_ops) with dim is deprecated and will be removed in a future version.\n",
      "Instructions for updating:\n",
      "dim is deprecated, use axis insteadWARNING:tensorflow:From <string>:54: calling softmax (from tensorflow.python.ops.nn_ops) with dim is deprecated and will be removed in a future version.\n",
      "Instructions for updating:\n",
      "dim is deprecated, use axis instead\n",
      "\n",
      "Text name: ../res/imitation_MDN_HalfCheetah-v2_E100_C00_var1.0e-06.txt\n",
      "Text name: ../res/imitation_MDN_HalfCheetah-v2_E70_C30_var1.0e-06.txt\n",
      "Text name: ../res/imitation_MDN_HalfCheetah-v2_E60_C40_var1.0e-06.txt\n",
      "Text name: ../res/imitation_MDN_HalfCheetah-v2_E80_C20_var1.0e-06.txt\n",
      "Text name: ../res/imitation_MDN_HalfCheetah-v2_E90_C10_var1.0e-06.txt\n",
      "Avg Return:472.64 (425.68)\n",
      "[Worker_00] Finished.\n",
      "Avg Return:192.53 (339.69)\n",
      "[Worker_01] Finished.\n",
      "Avg Return:19.56 (368.31)\n",
      "Avg Return:363.08 (399.57)\n",
      "[Worker_04] Finished.\n",
      "[Worker_03] Finished.\n",
      "Avg Return:675.94 (266.46)\n",
      "[Worker_02] Finished.\n"
     ]
    }
   ],
   "source": [
    "for i in range(nWorker):\n",
    "    WORKERS[i].start(); # Start process"
   ]
  }
 ],
 "metadata": {
  "kernelspec": {
   "display_name": "Python 3",
   "language": "python",
   "name": "python3"
  },
  "language_info": {
   "codemirror_mode": {
    "name": "ipython",
    "version": 3
   },
   "file_extension": ".py",
   "mimetype": "text/x-python",
   "name": "python",
   "nbconvert_exporter": "python",
   "pygments_lexer": "ipython3",
   "version": "3.5.2"
  }
 },
 "nbformat": 4,
 "nbformat_minor": 2
}
