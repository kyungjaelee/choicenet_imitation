{
 "cells": [
  {
   "cell_type": "code",
   "execution_count": 1,
   "metadata": {},
   "outputs": [
    {
     "name": "stdout",
     "output_type": "stream",
     "text": [
      "WARNING:tensorflow:From c:\\users\\kj\\appdata\\local\\programs\\python\\python36\\lib\\site-packages\\tensorflow\\contrib\\learn\\python\\learn\\datasets\\base.py:198: retry (from tensorflow.contrib.learn.python.learn.datasets.base) is deprecated and will be removed in a future version.\n",
      "Instructions for updating:\n",
      "Use the retry module or similar alternatives.\n"
     ]
    }
   ],
   "source": [
    "import nbloader\n",
    "import pickle\n",
    "import numpy as np\n",
    "from main_imitation_config import trainModeList, dataEnvList, oRateList, varList"
   ]
  },
  {
   "cell_type": "code",
   "execution_count": 3,
   "metadata": {},
   "outputs": [
    {
     "name": "stdout",
     "output_type": "stream",
     "text": [
      "HalfCheetah-v2\n",
      "Outliers : 00%, Model: CN, Average Retun (100 epi): 1907.05\n",
      "Outliers : 10%, Model: CN, Average Retun (100 epi): 2068.14\n",
      "Outliers : 20%, Model: CN, Average Retun (100 epi): 1498.72\n",
      "Outliers : 30%, Model: CN, Average Retun (100 epi): 2035.91\n",
      "Outliers : 40%, Model: CN, Average Retun (100 epi): -1821.55\n",
      "Outliers : 00%, Model: MDN, Average Retun (100 epi): 472.64\n",
      "Outliers : 10%, Model: MDN, Average Retun (100 epi): 192.53\n",
      "Outliers : 20%, Model: MDN, Average Retun (100 epi): 675.94\n",
      "Outliers : 30%, Model: MDN, Average Retun (100 epi): 363.08\n",
      "Outliers : 40%, Model: MDN, Average Retun (100 epi): 19.56\n",
      "Outliers : 00%, Model: MLP, Average Retun (100 epi): 1998.93\n",
      "Outliers : 10%, Model: MLP, Average Retun (100 epi): 852.91\n",
      "Outliers : 20%, Model: MLP, Average Retun (100 epi): 372.90\n",
      "Outliers : 30%, Model: MLP, Average Retun (100 epi): 971.24\n",
      "Outliers : 40%, Model: MLP, Average Retun (100 epi): -2067.11\n",
      "Hopper-v2\n",
      "Outliers : 00%, Model: CN, Average Retun (100 epi): 2304.39\n",
      "Outliers : 10%, Model: CN, Average Retun (100 epi): 2677.38\n",
      "Outliers : 20%, Model: CN, Average Retun (100 epi): 762.37\n",
      "Outliers : 30%, Model: CN, Average Retun (100 epi): 1064.01\n",
      "Outliers : 40%, Model: CN, Average Retun (100 epi): 130.50\n",
      "Outliers : 00%, Model: MDN, Average Retun (100 epi): 880.72\n",
      "Outliers : 10%, Model: MDN, Average Retun (100 epi): 551.07\n",
      "Outliers : 20%, Model: MDN, Average Retun (100 epi): 743.53\n",
      "Outliers : 30%, Model: MDN, Average Retun (100 epi): 606.25\n",
      "Outliers : 40%, Model: MDN, Average Retun (100 epi): 592.44\n",
      "Outliers : 00%, Model: MLP, Average Retun (100 epi): 2251.82\n",
      "Outliers : 10%, Model: MLP, Average Retun (100 epi): 2224.86\n",
      "Outliers : 20%, Model: MLP, Average Retun (100 epi): 2936.51\n",
      "Outliers : 30%, Model: MLP, Average Retun (100 epi): 496.99\n",
      "Outliers : 40%, Model: MLP, Average Retun (100 epi): 136.98\n",
      "Walker2d-v2\n",
      "Outliers : 00%, Model: CN, Average Retun (100 epi): 1784.75\n",
      "Outliers : 10%, Model: CN, Average Retun (100 epi): 2754.08\n",
      "Outliers : 20%, Model: CN, Average Retun (100 epi): 1887.73\n",
      "Outliers : 30%, Model: CN, Average Retun (100 epi): -267.10\n",
      "Outliers : 40%, Model: CN, Average Retun (100 epi): -557.99\n",
      "Outliers : 00%, Model: MDN, Average Retun (100 epi): 701.07\n",
      "Outliers : 10%, Model: MDN, Average Retun (100 epi): 102.99\n",
      "Outliers : 20%, Model: MDN, Average Retun (100 epi): 95.29\n",
      "Outliers : 30%, Model: MDN, Average Retun (100 epi): -260.80\n",
      "Outliers : 40%, Model: MDN, Average Retun (100 epi): -480.86\n",
      "Outliers : 00%, Model: MLP, Average Retun (100 epi): 2620.62\n",
      "Outliers : 10%, Model: MLP, Average Retun (100 epi): 537.42\n",
      "Outliers : 20%, Model: MLP, Average Retun (100 epi): 1155.80\n",
      "Outliers : 30%, Model: MLP, Average Retun (100 epi): -728.39\n",
      "Outliers : 40%, Model: MLP, Average Retun (100 epi): -495.53\n"
     ]
    }
   ],
   "source": [
    "trainModeList = ['CN','MDN','MLP']\n",
    "dataEnvList = ['HalfCheetah-v2','Hopper-v2','Walker2d-v2']\n",
    "for _EnvType in dataEnvList:\n",
    "    print(_EnvType)\n",
    "    for _trainMode in trainModeList:\n",
    "        for oRate in oRateList:\n",
    "            for _var in varList:\n",
    "                name = '%s_%s_E%02d_C%02d_var%.1e'%(_trainMode,_EnvType,(1-oRate)*100,oRate*100,_var)\n",
    "                with open('../res/%s.pickle'%(name),'rb') as f:\n",
    "                    data=pickle.load(f)\n",
    "                    f.close()\n",
    "                    print('Outliers : %02d%%, Model: %s, Average Retun (100 epi): %.02f'%(oRate*100,_trainMode,data['avg_ret']))"
   ]
  },
  {
   "cell_type": "code",
   "execution_count": null,
   "metadata": {},
   "outputs": [],
   "source": []
  }
 ],
 "metadata": {
  "kernelspec": {
   "display_name": "Python 3",
   "language": "python",
   "name": "python3"
  },
  "language_info": {
   "codemirror_mode": {
    "name": "ipython",
    "version": 3
   },
   "file_extension": ".py",
   "mimetype": "text/x-python",
   "name": "python",
   "nbconvert_exporter": "python",
   "pygments_lexer": "ipython3",
   "version": "3.6.5"
  }
 },
 "nbformat": 4,
 "nbformat_minor": 2
}
