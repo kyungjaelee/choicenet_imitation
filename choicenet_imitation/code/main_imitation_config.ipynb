{
 "cells": [
  {
   "cell_type": "markdown",
   "metadata": {},
   "source": [
    "# Configurations for Regression Tasks"
   ]
  },
  {
   "cell_type": "code",
   "execution_count": 1,
   "metadata": {},
   "outputs": [
    {
     "name": "stdout",
     "output_type": "stream",
     "text": [
      "TensorFlow version is [1.10.0].\n"
     ]
    }
   ],
   "source": [
    "import time,nbloader\n",
    "import tensorflow as tf\n",
    "import tensorflow.contrib.slim as slim\n",
    "import numpy as np\n",
    "import matplotlib.pyplot as plt\n",
    "from util import grid_maker,get_properIdx,data4imitation_expert_crazy,gpusession\n",
    "from define_choiceNet_imitation import choiceNet_imitation_class\n",
    "from define_mdn_imitation import mdn_imitation_class\n",
    "from define_mlp_imitation import mlp_imitation_class\n",
    "from multiprocessing import Process,Manager\n",
    "if __name__ == \"__main__\": \n",
    "    print (\"TensorFlow version is [%s].\"%(tf.__version__))"
   ]
  },
  {
   "cell_type": "markdown",
   "metadata": {},
   "source": [
    "### Configurations"
   ]
  },
  {
   "cell_type": "code",
   "execution_count": 2,
   "metadata": {},
   "outputs": [],
   "source": [
    "trainModeList = ['MDN'] # ['CN','MLP','MDN']\n",
    "dataEnvList = ['HalfCheetah-v2']\n",
    "oRateList = [0.0,0.1,0.2,0.3,0.4] # [0.0,0.2,0.4,0.6]\n",
    "varList = [1e-6]"
   ]
  },
  {
   "cell_type": "markdown",
   "metadata": {},
   "source": [
    "### Helper functinos"
   ]
  },
  {
   "cell_type": "code",
   "execution_count": 3,
   "metadata": {},
   "outputs": [
    {
     "name": "stdout",
     "output_type": "stream",
     "text": [
      "helper functions defined.\n"
     ]
    }
   ],
   "source": [
    "def get_reg_config(_processID=0,_maxProcessID=8,_maxGPU=8):\n",
    "    # Get total configurations\n",
    "    _G = grid_maker(trainModeList,dataEnvList,oRateList,varList)\n",
    "    _ids = get_properIdx(_processID,_maxProcessID,_nTask=_G.nIter)\n",
    "    _paramsList = list(_G.paramList[i] for i in _ids) \n",
    "    # Get corresponding GPU ID \n",
    "    _GPU_ID = (_processID % _maxGPU)\n",
    "    return _paramsList,_GPU_ID\n",
    "def get_common_config():\n",
    "    _n = 500 # Number of training data\n",
    "    _oRange=[-5.,+5.0]\n",
    "    _hdims = [32,32] # [64,64] for CN, MLP\n",
    "    _actv = tf.nn.tanh\n",
    "    _maxEpoch = 3e4\n",
    "    _PLOT_EVERY = 0\n",
    "    _SAVE_NET = False \n",
    "    _SAVE_FIG = True \n",
    "    return _n,_oRange,_hdims,_actv,_maxEpoch,_PLOT_EVERY,_SAVE_NET,_SAVE_FIG\n",
    "def run_cn(_trainMode,_EnvType,_oRate,_var,_GPU_ID):\n",
    "    _n,_oRange,_hdims,_actv,_maxEpoch,_PLOT_EVERY,_SAVE_NET,_SAVE_FIG = get_common_config()\n",
    "    oRate = [1-_oRate,_oRate]\n",
    "    x,y,t=data4imitation_expert_crazy(envname=_EnvType,_n=_n,_oRate=oRate,measVar=_var)\n",
    "    xtest = np.linspace(start=-3,stop=3,num=1000).reshape((-1,1))\n",
    "    tf.reset_default_graph()\n",
    "    tf.set_random_seed(0); np.random.seed(0)\n",
    "    C = choiceNet_imitation_class(_name='CN_%s_E%02d_C%02d_var%.1e'%(_EnvType,oRate[0]*100,oRate[1]*100,_var),_envname=_EnvType\n",
    "                            ,_xdim=x.shape[1],_ydim=y.shape[1],_hdims=_hdims\n",
    "                            ,_kmix=5,_actv=_actv,_bn=slim.batch_norm\n",
    "                            ,_rho_ref_train=0.99,_tau_inv=1e-2,_var_eps=1e-8\n",
    "                            ,_pi1_bias=0.0,_logSigmaZval=0\n",
    "                            ,_kl_reg_coef=1e-6,_l2_reg_coef=1e-6\n",
    "                            ,_SCHEDULE_MDN_REG=False\n",
    "                            ,_GPU_ID=_GPU_ID,_VERBOSE=False)\n",
    "    sess = gpusession() # Open session\n",
    "    sess.run(tf.global_variables_initializer()) # Initialize variables\n",
    "    C.train(_sess=sess,_x=x,_y=y,_yref=t\n",
    "           ,_lr=1e-1,_batchSize=256,_maxEpoch=_maxEpoch,_kp=1.0\n",
    "           ,_LR_SCHEDULE=True\n",
    "           ,_PRINT_EVERY=50,_PLOT_EVERY=_PLOT_EVERY\n",
    "           ,_SAVE_TXT=True,_SAVE_BEST_NET=_SAVE_NET,_SAVE_FINAL=_SAVE_NET)\n",
    "    C.test(_sess=sess,_PLOT_TRAIN=True,_PLOT_RES=True,_SAVE_FIG=_SAVE_FIG)\n",
    "    sess.close() # Close session\n",
    "def run_mdn(_trainMode,_EnvType,_oRate,_var,_GPU_ID):\n",
    "    _n,_oRange,_hdims,_actv,_maxEpoch,_PLOT_EVERY,_SAVE_NET,_SAVE_FIG = get_common_config()\n",
    "    oRate = [1-_oRate,_oRate]\n",
    "    x,y,t=data4imitation_expert_crazy(envname=_EnvType,_n=_n,_oRate=oRate,measVar=_var)\n",
    "    xtest = np.linspace(start=-3,stop=3,num=500).reshape((-1,1))\n",
    "    tf.reset_default_graph()\n",
    "    tf.set_random_seed(0); np.random.seed(0)\n",
    "    MDN = mdn_imitation_class(_name='MDN_%s_E%02d_C%02d_var%.1e'%(_EnvType,oRate[0]*100,oRate[1]*100,_var),_envname=_EnvType\n",
    "                     ,_xdim=x.shape[1],_ydim=y.shape[1],_hdims=_hdims,_sigmax=0.1\n",
    "                     ,_kmix=3,_actv=_actv,_bn=slim.batch_norm\n",
    "                     ,_l2_reg_coef=1e-5,_GPU_ID=_GPU_ID,_VERBOSE=False)\n",
    "    sess = gpusession() # Open session\n",
    "    sess.run(tf.global_variables_initializer()) # Initialize variables\n",
    "    MDN.train(_sess=sess,_x=x,_y=y,_yref=t \n",
    "           ,_lr=1e-2,_batchSize=128,_maxEpoch=_maxEpoch,_kp=1.0\n",
    "           ,_LR_SCHEDULE=True\n",
    "           ,_PRINT_EVERY=50,_PLOT_EVERY=_PLOT_EVERY\n",
    "           ,_SAVE_TXT=True,_SAVE_BEST_NET=_SAVE_NET,_SAVE_FINAL=_SAVE_NET)\n",
    "    MDN.test(_sess=sess,_PLOT_TRAIN=True,_PLOT_RES=True,_SAVE_FIG=_SAVE_FIG)\n",
    "    sess.close() # Close session\n",
    "def run_mlp(_trainMode,_EnvType,_oRate,_var,_GPU_ID):\n",
    "    _n,_oRange,_hdims,_actv,_maxEpoch,_PLOT_EVERY,_SAVE_NET,_SAVE_FIG = get_common_config()\n",
    "    oRate = [1-_oRate,_oRate]\n",
    "    x,y,t=data4imitation_expert_crazy(envname=_EnvType,_n=_n,_oRate=oRate,measVar=_var)\n",
    "    xtest = np.linspace(start=-3,stop=3,num=500).reshape((-1,1))\n",
    "    tf.reset_default_graph()\n",
    "    tf.set_random_seed(0); np.random.seed(0)\n",
    "    MLP =  mlp_imitation_class(_name='MLP_%s_E%02d_C%02d_var%.1e'%(_EnvType,oRate[0]*100,oRate[1]*100,_var),_envname=_EnvType\n",
    "                         ,_xdim=x.shape[1],_ydim=y.shape[1],_hdims=_hdims,_actv=_actv,_bn=None # slim.batch_norm\n",
    "                         ,_l2_reg_coef=1e-5,_GPU_ID=_GPU_ID,_VERBOSE=False)\n",
    "    sess = gpusession() # Open session\n",
    "    sess.run(tf.global_variables_initializer()) # Initialize variables\n",
    "    MLP.train(_sess=sess,_x=x,_y=y,_yref=t \n",
    "               ,_lr=1e-1,_batchSize=256,_maxEpoch=_maxEpoch,_kp=1.0\n",
    "               ,_LR_SCHEDULE=True\n",
    "               ,_PRINT_EVERY=50,_PLOT_EVERY=_PLOT_EVERY\n",
    "               ,_SAVE_TXT=True,_SAVE_BEST_NET=_SAVE_NET,_SAVE_FINAL=_SAVE_NET)\n",
    "    MLP.test(_sess=sess,_PLOT_TRAIN=True,_PLOT_RES=True,_SAVE_FIG=_SAVE_FIG)\n",
    "    sess.close() # Close session\n",
    "def train_wrapper_reg(_paramsList,_GPU_ID):\n",
    "    for pIdx,params in enumerate(_paramsList): # For all current configurations\n",
    "        print (\"===[%d/%d]===\"%(pIdx,len(_paramsList)))\n",
    "        _trainMode,_dataType,_oRate,_var = params[0],params[1],params[2],params[3]\n",
    "        if _trainMode == 'CN':\n",
    "            run_cn(_trainMode,_dataType,_oRate,_var,_GPU_ID)\n",
    "        elif _trainMode == 'MDN':\n",
    "            run_mdn(_trainMode,_dataType,_oRate,_var,_GPU_ID)\n",
    "        elif _trainMode == 'MLP':\n",
    "            run_mlp(_trainMode,_dataType,_oRate,_var,_GPU_ID)\n",
    "        else:\n",
    "            print (\"Unknown trainMode:[%s].\"%(_trainMode))\n",
    "if __name__ == \"__main__\":\n",
    "    print (\"helper functions defined.\")"
   ]
  },
  {
   "cell_type": "markdown",
   "metadata": {},
   "source": [
    "### Worker Class"
   ]
  },
  {
   "cell_type": "code",
   "execution_count": 4,
   "metadata": {},
   "outputs": [
    {
     "name": "stdout",
     "output_type": "stream",
     "text": [
      "worker_class defined.\n"
     ]
    }
   ],
   "source": [
    "class worker_class(Process):\n",
    "    def __init__(self,_idx=0,_maxProcessID=8,_maxGPU=8,_name='worker',_VERBOSE=True):\n",
    "        Process.__init__(self)\n",
    "        # Initialize class\n",
    "        self.idx = _idx\n",
    "        self.maxProcessID = _maxProcessID\n",
    "        self.maxGPU = _maxGPU\n",
    "        self.name = _name\n",
    "        self.VERBOSE = _VERBOSE\n",
    "        # Initialize Process\n",
    "        self.setName = 'T_'+self.name \n",
    "        self.daemon = True # Make sure that each child is killed when the parent is dead. (?!)\n",
    "        # Print\n",
    "        if self.VERBOSE:\n",
    "            print (\"[%s] Instantiated.\"%(self.name))\n",
    "    def run(self):\n",
    "        print (\"Starting [%s]\"%(self.name))\n",
    "        time.sleep(1e-1)\n",
    "        # Get configurations \n",
    "        paramsList,GPU_ID = get_reg_config(self.idx,self.maxProcessID,self.maxGPU)\n",
    "        print (\"processID:[%d/%d] GPU_ID:[%d] #Config:[%d]\"\n",
    "               %(self.idx,self.maxProcessID,GPU_ID,len(paramsList)))\n",
    "        # Run\n",
    "        train_wrapper_reg(_paramsList=paramsList,_GPU_ID=GPU_ID)\n",
    "        print (\"[%s] Finished.\"%(self.name))\n",
    "if __name__ == \"__main__\":\n",
    "    print (\"worker_class defined.\")"
   ]
  }
 ],
 "metadata": {
  "kernelspec": {
   "display_name": "Python 3",
   "language": "python",
   "name": "python3"
  },
  "language_info": {
   "codemirror_mode": {
    "name": "ipython",
    "version": 3
   },
   "file_extension": ".py",
   "mimetype": "text/x-python",
   "name": "python",
   "nbconvert_exporter": "python",
   "pygments_lexer": "ipython3",
   "version": "3.6.5"
  }
 },
 "nbformat": 4,
 "nbformat_minor": 2
}
